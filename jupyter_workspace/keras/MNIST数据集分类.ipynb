{
 "cells": [
  {
   "cell_type": "code",
   "execution_count": 1,
   "metadata": {},
   "outputs": [
    {
     "name": "stderr",
     "output_type": "stream",
     "text": [
      "Using TensorFlow backend.\n",
      "D:\\software\\anaconda\\envs\\deep_learning\\lib\\site-packages\\tensorflow\\python\\framework\\dtypes.py:516: FutureWarning: Passing (type, 1) or '1type' as a synonym of type is deprecated; in a future version of numpy, it will be understood as (type, (1,)) / '(1,)type'.\n",
      "  _np_qint8 = np.dtype([(\"qint8\", np.int8, 1)])\n",
      "D:\\software\\anaconda\\envs\\deep_learning\\lib\\site-packages\\tensorflow\\python\\framework\\dtypes.py:517: FutureWarning: Passing (type, 1) or '1type' as a synonym of type is deprecated; in a future version of numpy, it will be understood as (type, (1,)) / '(1,)type'.\n",
      "  _np_quint8 = np.dtype([(\"quint8\", np.uint8, 1)])\n",
      "D:\\software\\anaconda\\envs\\deep_learning\\lib\\site-packages\\tensorflow\\python\\framework\\dtypes.py:518: FutureWarning: Passing (type, 1) or '1type' as a synonym of type is deprecated; in a future version of numpy, it will be understood as (type, (1,)) / '(1,)type'.\n",
      "  _np_qint16 = np.dtype([(\"qint16\", np.int16, 1)])\n",
      "D:\\software\\anaconda\\envs\\deep_learning\\lib\\site-packages\\tensorflow\\python\\framework\\dtypes.py:519: FutureWarning: Passing (type, 1) or '1type' as a synonym of type is deprecated; in a future version of numpy, it will be understood as (type, (1,)) / '(1,)type'.\n",
      "  _np_quint16 = np.dtype([(\"quint16\", np.uint16, 1)])\n",
      "D:\\software\\anaconda\\envs\\deep_learning\\lib\\site-packages\\tensorflow\\python\\framework\\dtypes.py:520: FutureWarning: Passing (type, 1) or '1type' as a synonym of type is deprecated; in a future version of numpy, it will be understood as (type, (1,)) / '(1,)type'.\n",
      "  _np_qint32 = np.dtype([(\"qint32\", np.int32, 1)])\n",
      "D:\\software\\anaconda\\envs\\deep_learning\\lib\\site-packages\\tensorflow\\python\\framework\\dtypes.py:525: FutureWarning: Passing (type, 1) or '1type' as a synonym of type is deprecated; in a future version of numpy, it will be understood as (type, (1,)) / '(1,)type'.\n",
      "  np_resource = np.dtype([(\"resource\", np.ubyte, 1)])\n",
      "D:\\software\\anaconda\\envs\\deep_learning\\lib\\site-packages\\tensorboard\\compat\\tensorflow_stub\\dtypes.py:541: FutureWarning: Passing (type, 1) or '1type' as a synonym of type is deprecated; in a future version of numpy, it will be understood as (type, (1,)) / '(1,)type'.\n",
      "  _np_qint8 = np.dtype([(\"qint8\", np.int8, 1)])\n",
      "D:\\software\\anaconda\\envs\\deep_learning\\lib\\site-packages\\tensorboard\\compat\\tensorflow_stub\\dtypes.py:542: FutureWarning: Passing (type, 1) or '1type' as a synonym of type is deprecated; in a future version of numpy, it will be understood as (type, (1,)) / '(1,)type'.\n",
      "  _np_quint8 = np.dtype([(\"quint8\", np.uint8, 1)])\n",
      "D:\\software\\anaconda\\envs\\deep_learning\\lib\\site-packages\\tensorboard\\compat\\tensorflow_stub\\dtypes.py:543: FutureWarning: Passing (type, 1) or '1type' as a synonym of type is deprecated; in a future version of numpy, it will be understood as (type, (1,)) / '(1,)type'.\n",
      "  _np_qint16 = np.dtype([(\"qint16\", np.int16, 1)])\n",
      "D:\\software\\anaconda\\envs\\deep_learning\\lib\\site-packages\\tensorboard\\compat\\tensorflow_stub\\dtypes.py:544: FutureWarning: Passing (type, 1) or '1type' as a synonym of type is deprecated; in a future version of numpy, it will be understood as (type, (1,)) / '(1,)type'.\n",
      "  _np_quint16 = np.dtype([(\"quint16\", np.uint16, 1)])\n",
      "D:\\software\\anaconda\\envs\\deep_learning\\lib\\site-packages\\tensorboard\\compat\\tensorflow_stub\\dtypes.py:545: FutureWarning: Passing (type, 1) or '1type' as a synonym of type is deprecated; in a future version of numpy, it will be understood as (type, (1,)) / '(1,)type'.\n",
      "  _np_qint32 = np.dtype([(\"qint32\", np.int32, 1)])\n",
      "D:\\software\\anaconda\\envs\\deep_learning\\lib\\site-packages\\tensorboard\\compat\\tensorflow_stub\\dtypes.py:550: FutureWarning: Passing (type, 1) or '1type' as a synonym of type is deprecated; in a future version of numpy, it will be understood as (type, (1,)) / '(1,)type'.\n",
      "  np_resource = np.dtype([(\"resource\", np.ubyte, 1)])\n"
     ]
    }
   ],
   "source": [
    "import numpy as np\n",
    "from keras.datasets import mnist #有很多种数据集\n",
    "from keras.utils import np_utils #numpy工具包\n",
    "from keras.models import Sequential\n",
    "from keras.layers import Dense\n",
    "from keras.optimizers import SGD"
   ]
  },
  {
   "cell_type": "code",
   "execution_count": 7,
   "metadata": {},
   "outputs": [
    {
     "name": "stdout",
     "output_type": "stream",
     "text": [
      "x_shape: (60000, 28, 28)\n",
      "y_shape: (60000,)\n"
     ]
    }
   ],
   "source": [
    "#load data\n",
    "(x_train, y_train), (x_test, y_test) = mnist.load_data()\n",
    "#导入训练集和测试集,x表示数据，y表示标签 download from the internet\n",
    "print('x_shape:',x_train.shape)\n",
    "print('y_shape:',y_train.shape)"
   ]
  },
  {
   "cell_type": "code",
   "execution_count": 8,
   "metadata": {},
   "outputs": [],
   "source": [
    "#(6000，28，28)->(60000, 784)\n",
    "x_train = x_train.reshape(x_train.shape[0], -1)/255.0\n",
    "#第二个参数-1表示列数不确定，会自动判断,/255.0是为了归一化\n",
    "x_test = x_test.reshape(x_test.shape[0], -1)/255.0\n",
    "\n",
    "y_train = np_utils.to_categorical(y_train,num_classes=10)\n",
    "#to_categorical函数用来转标签label数据的格式，num_class指定分类种类\n",
    "y_test = np_utils.to_categorical(y_test,num_classes=10)\n",
    "\n",
    "#创建模型，输入784个神经元，输出10个神经元\n",
    "model = Sequential([\n",
    "    Dense(units=10, input_dim=784,bias_initializer='one',\n",
    "         activation='softmax')#偏执，激活函数\n",
    "])\n",
    "#定义优化器\n",
    "sgd = SGD(lr=0.2)\n",
    "\n",
    "model.compile(optimizer=sgd, loss='mse', metrics=['accuracy'])\n",
    "                #定义优化器     loss_function 计算准确率 \n"
   ]
  },
  {
   "cell_type": "code",
   "execution_count": 9,
   "metadata": {},
   "outputs": [
    {
     "name": "stdout",
     "output_type": "stream",
     "text": [
      "WARNING:tensorflow:From D:\\software\\anaconda\\envs\\deep_learning\\lib\\site-packages\\keras\\backend\\tensorflow_backend.py:1033: The name tf.assign_add is deprecated. Please use tf.compat.v1.assign_add instead.\n",
      "\n",
      "WARNING:tensorflow:From D:\\software\\anaconda\\envs\\deep_learning\\lib\\site-packages\\keras\\backend\\tensorflow_backend.py:1020: The name tf.assign is deprecated. Please use tf.compat.v1.assign instead.\n",
      "\n",
      "Epoch 1/10\n",
      "60000/60000 [==============================] - 5s 81us/step - loss: 0.0377 - acc: 0.7766\n",
      "Epoch 2/10\n",
      "60000/60000 [==============================] - 3s 56us/step - loss: 0.0204 - acc: 0.8810\n",
      "Epoch 3/10\n",
      "60000/60000 [==============================] - 3s 56us/step - loss: 0.0178 - acc: 0.8923\n",
      "Epoch 4/10\n",
      "60000/60000 [==============================] - 3s 57us/step - loss: 0.0165 - acc: 0.8991\n",
      "Epoch 5/10\n",
      "60000/60000 [==============================] - 3s 56us/step - loss: 0.0157 - acc: 0.9030\n",
      "Epoch 6/10\n",
      "60000/60000 [==============================] - 3s 54us/step - loss: 0.0151 - acc: 0.9060\n",
      "Epoch 7/10\n",
      "60000/60000 [==============================] - 3s 53us/step - loss: 0.0147 - acc: 0.9087\n",
      "Epoch 8/10\n",
      "60000/60000 [==============================] - 3s 57us/step - loss: 0.0143 - acc: 0.9108\n",
      "Epoch 9/10\n",
      "60000/60000 [==============================] - 3s 53us/step - loss: 0.0140 - acc: 0.9123\n",
      "Epoch 10/10\n",
      "60000/60000 [==============================] - 3s 54us/step - loss: 0.0138 - acc: 0.9140\n",
      "10000/10000 [==============================] - 0s 25us/step\n",
      "\n",
      "test loss: 0.013048703602468594\n",
      "\n",
      "accuracy: 0.9178\n"
     ]
    }
   ],
   "source": [
    "#训练模型\n",
    "model.fit(x_train, y_train, batch_size=32, epochs=10)\n",
    "#每个batch32张图片,训练十个周期\n",
    "#评估模型\n",
    "loss,accuracy = model.evaluate(x_test, y_test)\n",
    "print('\\ntest loss:',loss)\n",
    "print('\\naccuracy:',accuracy)"
   ]
  },
  {
   "cell_type": "code",
   "execution_count": null,
   "metadata": {},
   "outputs": [],
   "source": []
  }
 ],
 "metadata": {
  "kernelspec": {
   "display_name": "Python 3",
   "language": "python",
   "name": "python3"
  },
  "language_info": {
   "codemirror_mode": {
    "name": "ipython",
    "version": 3
   },
   "file_extension": ".py",
   "mimetype": "text/x-python",
   "name": "python",
   "nbconvert_exporter": "python",
   "pygments_lexer": "ipython3",
   "version": "3.6.11"
  }
 },
 "nbformat": 4,
 "nbformat_minor": 4
}
